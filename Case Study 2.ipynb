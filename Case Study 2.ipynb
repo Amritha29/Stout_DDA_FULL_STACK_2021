{
 "cells": [
  {
   "cell_type": "code",
   "execution_count": 1,
   "id": "e39051e1",
   "metadata": {},
   "outputs": [],
   "source": [
    "import pandas as pd\n",
    "import numpy as np\n",
    "import seaborn as sns\n",
    "import matplotlib.pyplot as plt\n",
    "import seaborn as sns\n",
    "%matplotlib inline\n",
    "from sklearn import preprocessing\n",
    "import sklearn.metrics as sm"
   ]
  },
  {
   "cell_type": "code",
   "execution_count": 2,
   "id": "e0bcde39",
   "metadata": {},
   "outputs": [],
   "source": [
    "data = pd.read_csv(r'//Users//amrithasubburayan//Downloads//casestudy.csv')"
   ]
  },
  {
   "cell_type": "code",
   "execution_count": 3,
   "id": "141d3d06",
   "metadata": {},
   "outputs": [
    {
     "data": {
      "text/html": [
       "<div>\n",
       "<style scoped>\n",
       "    .dataframe tbody tr th:only-of-type {\n",
       "        vertical-align: middle;\n",
       "    }\n",
       "\n",
       "    .dataframe tbody tr th {\n",
       "        vertical-align: top;\n",
       "    }\n",
       "\n",
       "    .dataframe thead th {\n",
       "        text-align: right;\n",
       "    }\n",
       "</style>\n",
       "<table border=\"1\" class=\"dataframe\">\n",
       "  <thead>\n",
       "    <tr style=\"text-align: right;\">\n",
       "      <th></th>\n",
       "      <th>Unnamed: 0</th>\n",
       "      <th>customer_email</th>\n",
       "      <th>net_revenue</th>\n",
       "      <th>year</th>\n",
       "    </tr>\n",
       "  </thead>\n",
       "  <tbody>\n",
       "    <tr>\n",
       "      <th>0</th>\n",
       "      <td>0</td>\n",
       "      <td>nhknapwsbx@gmail.com</td>\n",
       "      <td>249.92</td>\n",
       "      <td>2015</td>\n",
       "    </tr>\n",
       "    <tr>\n",
       "      <th>1</th>\n",
       "      <td>1</td>\n",
       "      <td>joiuzbvcpn@gmail.com</td>\n",
       "      <td>87.61</td>\n",
       "      <td>2015</td>\n",
       "    </tr>\n",
       "    <tr>\n",
       "      <th>2</th>\n",
       "      <td>2</td>\n",
       "      <td>ukkjctepxt@gmail.com</td>\n",
       "      <td>168.38</td>\n",
       "      <td>2015</td>\n",
       "    </tr>\n",
       "    <tr>\n",
       "      <th>3</th>\n",
       "      <td>3</td>\n",
       "      <td>gykatilzrt@gmail.com</td>\n",
       "      <td>62.40</td>\n",
       "      <td>2015</td>\n",
       "    </tr>\n",
       "    <tr>\n",
       "      <th>4</th>\n",
       "      <td>4</td>\n",
       "      <td>mmsgsrtxah@gmail.com</td>\n",
       "      <td>43.08</td>\n",
       "      <td>2015</td>\n",
       "    </tr>\n",
       "    <tr>\n",
       "      <th>...</th>\n",
       "      <td>...</td>\n",
       "      <td>...</td>\n",
       "      <td>...</td>\n",
       "      <td>...</td>\n",
       "    </tr>\n",
       "    <tr>\n",
       "      <th>685922</th>\n",
       "      <td>685922</td>\n",
       "      <td>qzqttwiftu@gmail.com</td>\n",
       "      <td>184.58</td>\n",
       "      <td>2017</td>\n",
       "    </tr>\n",
       "    <tr>\n",
       "      <th>685923</th>\n",
       "      <td>685923</td>\n",
       "      <td>pjodiifjop@gmail.com</td>\n",
       "      <td>133.03</td>\n",
       "      <td>2017</td>\n",
       "    </tr>\n",
       "    <tr>\n",
       "      <th>685924</th>\n",
       "      <td>685924</td>\n",
       "      <td>appaplmgko@gmail.com</td>\n",
       "      <td>200.98</td>\n",
       "      <td>2017</td>\n",
       "    </tr>\n",
       "    <tr>\n",
       "      <th>685925</th>\n",
       "      <td>685925</td>\n",
       "      <td>wvkpmwsgck@gmail.com</td>\n",
       "      <td>235.35</td>\n",
       "      <td>2017</td>\n",
       "    </tr>\n",
       "    <tr>\n",
       "      <th>685926</th>\n",
       "      <td>685926</td>\n",
       "      <td>aregboumbw@gmail.com</td>\n",
       "      <td>208.43</td>\n",
       "      <td>2017</td>\n",
       "    </tr>\n",
       "  </tbody>\n",
       "</table>\n",
       "<p>685927 rows × 4 columns</p>\n",
       "</div>"
      ],
      "text/plain": [
       "        Unnamed: 0         customer_email  net_revenue  year\n",
       "0                0   nhknapwsbx@gmail.com       249.92  2015\n",
       "1                1   joiuzbvcpn@gmail.com        87.61  2015\n",
       "2                2   ukkjctepxt@gmail.com       168.38  2015\n",
       "3                3   gykatilzrt@gmail.com        62.40  2015\n",
       "4                4   mmsgsrtxah@gmail.com        43.08  2015\n",
       "...            ...                    ...          ...   ...\n",
       "685922      685922   qzqttwiftu@gmail.com       184.58  2017\n",
       "685923      685923   pjodiifjop@gmail.com       133.03  2017\n",
       "685924      685924   appaplmgko@gmail.com       200.98  2017\n",
       "685925      685925   wvkpmwsgck@gmail.com       235.35  2017\n",
       "685926      685926   aregboumbw@gmail.com       208.43  2017\n",
       "\n",
       "[685927 rows x 4 columns]"
      ]
     },
     "execution_count": 3,
     "metadata": {},
     "output_type": "execute_result"
    }
   ],
   "source": [
    "data"
   ]
  },
  {
   "cell_type": "code",
   "execution_count": null,
   "id": "cf994d0b",
   "metadata": {},
   "outputs": [],
   "source": [
    "#•Total revenue for the current year"
   ]
  },
  {
   "cell_type": "code",
   "execution_count": 4,
   "id": "b8816428",
   "metadata": {},
   "outputs": [
    {
     "data": {
      "text/plain": [
       "86185187.80999999"
      ]
     },
     "execution_count": 4,
     "metadata": {},
     "output_type": "execute_result"
    }
   ],
   "source": [
    "data['net_revenue'].sum(axis = 0)"
   ]
  },
  {
   "cell_type": "code",
   "execution_count": 5,
   "id": "9ad0abdf",
   "metadata": {},
   "outputs": [
    {
     "data": {
      "text/plain": [
       "Index(['Unnamed: 0', 'customer_email', 'net_revenue', 'year'], dtype='object')"
      ]
     },
     "execution_count": 5,
     "metadata": {},
     "output_type": "execute_result"
    }
   ],
   "source": [
    "data.columns"
   ]
  },
  {
   "cell_type": "code",
   "execution_count": 8,
   "id": "cce30df8",
   "metadata": {},
   "outputs": [
    {
     "data": {
      "text/plain": [
       "2017    249987\n",
       "2015    231294\n",
       "2016    204646\n",
       "Name: year, dtype: int64"
      ]
     },
     "execution_count": 8,
     "metadata": {},
     "output_type": "execute_result"
    }
   ],
   "source": [
    "data['year'].value_counts()"
   ]
  },
  {
   "cell_type": "code",
   "execution_count": 10,
   "id": "d4271d69",
   "metadata": {},
   "outputs": [
    {
     "data": {
      "text/html": [
       "<div>\n",
       "<style scoped>\n",
       "    .dataframe tbody tr th:only-of-type {\n",
       "        vertical-align: middle;\n",
       "    }\n",
       "\n",
       "    .dataframe tbody tr th {\n",
       "        vertical-align: top;\n",
       "    }\n",
       "\n",
       "    .dataframe thead th {\n",
       "        text-align: right;\n",
       "    }\n",
       "</style>\n",
       "<table border=\"1\" class=\"dataframe\">\n",
       "  <thead>\n",
       "    <tr style=\"text-align: right;\">\n",
       "      <th></th>\n",
       "      <th>Unnamed: 0</th>\n",
       "      <th>customer_email</th>\n",
       "      <th>net_revenue</th>\n",
       "      <th>year</th>\n",
       "    </tr>\n",
       "  </thead>\n",
       "  <tbody>\n",
       "    <tr>\n",
       "      <th>0</th>\n",
       "      <td>0</td>\n",
       "      <td>nhknapwsbx@gmail.com</td>\n",
       "      <td>249.92</td>\n",
       "      <td>2015</td>\n",
       "    </tr>\n",
       "    <tr>\n",
       "      <th>1</th>\n",
       "      <td>1</td>\n",
       "      <td>joiuzbvcpn@gmail.com</td>\n",
       "      <td>87.61</td>\n",
       "      <td>2015</td>\n",
       "    </tr>\n",
       "    <tr>\n",
       "      <th>2</th>\n",
       "      <td>2</td>\n",
       "      <td>ukkjctepxt@gmail.com</td>\n",
       "      <td>168.38</td>\n",
       "      <td>2015</td>\n",
       "    </tr>\n",
       "    <tr>\n",
       "      <th>3</th>\n",
       "      <td>3</td>\n",
       "      <td>gykatilzrt@gmail.com</td>\n",
       "      <td>62.40</td>\n",
       "      <td>2015</td>\n",
       "    </tr>\n",
       "    <tr>\n",
       "      <th>4</th>\n",
       "      <td>4</td>\n",
       "      <td>mmsgsrtxah@gmail.com</td>\n",
       "      <td>43.08</td>\n",
       "      <td>2015</td>\n",
       "    </tr>\n",
       "    <tr>\n",
       "      <th>...</th>\n",
       "      <td>...</td>\n",
       "      <td>...</td>\n",
       "      <td>...</td>\n",
       "      <td>...</td>\n",
       "    </tr>\n",
       "    <tr>\n",
       "      <th>685922</th>\n",
       "      <td>685922</td>\n",
       "      <td>qzqttwiftu@gmail.com</td>\n",
       "      <td>184.58</td>\n",
       "      <td>2017</td>\n",
       "    </tr>\n",
       "    <tr>\n",
       "      <th>685923</th>\n",
       "      <td>685923</td>\n",
       "      <td>pjodiifjop@gmail.com</td>\n",
       "      <td>133.03</td>\n",
       "      <td>2017</td>\n",
       "    </tr>\n",
       "    <tr>\n",
       "      <th>685924</th>\n",
       "      <td>685924</td>\n",
       "      <td>appaplmgko@gmail.com</td>\n",
       "      <td>200.98</td>\n",
       "      <td>2017</td>\n",
       "    </tr>\n",
       "    <tr>\n",
       "      <th>685925</th>\n",
       "      <td>685925</td>\n",
       "      <td>wvkpmwsgck@gmail.com</td>\n",
       "      <td>235.35</td>\n",
       "      <td>2017</td>\n",
       "    </tr>\n",
       "    <tr>\n",
       "      <th>685926</th>\n",
       "      <td>685926</td>\n",
       "      <td>aregboumbw@gmail.com</td>\n",
       "      <td>208.43</td>\n",
       "      <td>2017</td>\n",
       "    </tr>\n",
       "  </tbody>\n",
       "</table>\n",
       "<p>685927 rows × 4 columns</p>\n",
       "</div>"
      ],
      "text/plain": [
       "        Unnamed: 0         customer_email  net_revenue  year\n",
       "0                0   nhknapwsbx@gmail.com       249.92  2015\n",
       "1                1   joiuzbvcpn@gmail.com        87.61  2015\n",
       "2                2   ukkjctepxt@gmail.com       168.38  2015\n",
       "3                3   gykatilzrt@gmail.com        62.40  2015\n",
       "4                4   mmsgsrtxah@gmail.com        43.08  2015\n",
       "...            ...                    ...          ...   ...\n",
       "685922      685922   qzqttwiftu@gmail.com       184.58  2017\n",
       "685923      685923   pjodiifjop@gmail.com       133.03  2017\n",
       "685924      685924   appaplmgko@gmail.com       200.98  2017\n",
       "685925      685925   wvkpmwsgck@gmail.com       235.35  2017\n",
       "685926      685926   aregboumbw@gmail.com       208.43  2017\n",
       "\n",
       "[685927 rows x 4 columns]"
      ]
     },
     "execution_count": 10,
     "metadata": {},
     "output_type": "execute_result"
    }
   ],
   "source": [
    "data"
   ]
  },
  {
   "cell_type": "code",
   "execution_count": null,
   "id": "1d243c37",
   "metadata": {},
   "outputs": [],
   "source": [
    "#•\tExisting Customer Revenue Current Year"
   ]
  },
  {
   "cell_type": "code",
   "execution_count": 36,
   "id": "40948067",
   "metadata": {},
   "outputs": [
    {
     "data": {
      "text/plain": [
       "31417495.030000016"
      ]
     },
     "execution_count": 36,
     "metadata": {},
     "output_type": "execute_result"
    }
   ],
   "source": [
    "d1 = data.loc[data['year'] == 2017, 'net_revenue'].sum()\n"
   ]
  },
  {
   "cell_type": "code",
   "execution_count": null,
   "id": "bb969dba",
   "metadata": {},
   "outputs": [],
   "source": [
    "#\tExisting Customer Revenue Prior Year"
   ]
  },
  {
   "cell_type": "code",
   "execution_count": 37,
   "id": "3d0a6a35",
   "metadata": {},
   "outputs": [
    {
     "data": {
      "text/plain": [
       "25730943.59"
      ]
     },
     "execution_count": 37,
     "metadata": {},
     "output_type": "execute_result"
    }
   ],
   "source": [
    "d2 = data.loc[data['year'] == 2016, 'net_revenue'].sum()"
   ]
  },
  {
   "cell_type": "code",
   "execution_count": 26,
   "id": "d22263da",
   "metadata": {},
   "outputs": [],
   "source": [
    "d3 = data.loc[data['year'] == 2015, 'net_revenue'].sum()"
   ]
  },
  {
   "cell_type": "code",
   "execution_count": null,
   "id": "098e982c",
   "metadata": {},
   "outputs": [],
   "source": [
    "#•\tExisting Customer Growth"
   ]
  },
  {
   "cell_type": "code",
   "execution_count": 41,
   "id": "e7b94fff",
   "metadata": {},
   "outputs": [],
   "source": [
    "sum1 = d1 - d2"
   ]
  },
  {
   "cell_type": "code",
   "execution_count": 42,
   "id": "edf386df",
   "metadata": {},
   "outputs": [
    {
     "data": {
      "text/plain": [
       "57148438.62000002"
      ]
     },
     "execution_count": 42,
     "metadata": {},
     "output_type": "execute_result"
    }
   ],
   "source": [
    "sum1"
   ]
  },
  {
   "cell_type": "code",
   "execution_count": null,
   "id": "5aac249d",
   "metadata": {},
   "outputs": [],
   "source": [
    "#•\tTotal Customers Current Year "
   ]
  },
  {
   "cell_type": "code",
   "execution_count": null,
   "id": "3cfcbdf7",
   "metadata": {},
   "outputs": [],
   "source": [
    "data.loc[data['year'] == 2017, 'customer_email'].nunique()"
   ]
  },
  {
   "cell_type": "code",
   "execution_count": null,
   "id": "2e73881e",
   "metadata": {},
   "outputs": [],
   "source": [
    "#•\tTotal Customers Previous Year "
   ]
  },
  {
   "cell_type": "code",
   "execution_count": 38,
   "id": "8e6d73b4",
   "metadata": {},
   "outputs": [
    {
     "data": {
      "text/plain": [
       "204646"
      ]
     },
     "execution_count": 38,
     "metadata": {},
     "output_type": "execute_result"
    }
   ],
   "source": [
    "data.loc[data['year'] == 2016, 'customer_email'].nunique()"
   ]
  },
  {
   "cell_type": "code",
   "execution_count": 33,
   "id": "41fe7405",
   "metadata": {},
   "outputs": [
    {
     "data": {
      "text/plain": [
       "31417495.030000016"
      ]
     },
     "execution_count": 33,
     "metadata": {},
     "output_type": "execute_result"
    }
   ],
   "source": [
    "d1"
   ]
  },
  {
   "cell_type": "code",
   "execution_count": 40,
   "id": "d7894e94",
   "metadata": {},
   "outputs": [
    {
     "data": {
      "text/plain": [
       "604618"
      ]
     },
     "execution_count": 40,
     "metadata": {},
     "output_type": "execute_result"
    }
   ],
   "source": [
    "data['customer_email'].nunique()"
   ]
  },
  {
   "cell_type": "code",
   "execution_count": null,
   "id": "1de22747",
   "metadata": {},
   "outputs": [],
   "source": []
  }
 ],
 "metadata": {
  "kernelspec": {
   "display_name": "Python 3",
   "language": "python",
   "name": "python3"
  },
  "language_info": {
   "codemirror_mode": {
    "name": "ipython",
    "version": 3
   },
   "file_extension": ".py",
   "mimetype": "text/x-python",
   "name": "python",
   "nbconvert_exporter": "python",
   "pygments_lexer": "ipython3",
   "version": "3.8.8"
  }
 },
 "nbformat": 4,
 "nbformat_minor": 5
}
